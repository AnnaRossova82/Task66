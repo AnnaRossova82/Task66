{
 "cells": [
  {
   "cell_type": "code",
   "execution_count": 3,
   "id": "84b384c9",
   "metadata": {},
   "outputs": [],
   "source": [
    "import keras\n",
    "from keras.optimizers import RMSprop\n",
    "from keras.preprocessing.image import ImageDataGenerator\n",
    "import cv2\n",
    "from keras.models import Sequential\n",
    "from keras.layers import Conv2D, Input, ZeroPadding2D, BatchNormalization, Activation, MaxPooling2D, Flatten, Dense,Dropout\n",
    "from keras.models import Model, load_model\n",
    "from keras.callbacks import TensorBoard, ModelCheckpoint\n",
    "from sklearn.model_selection import train_test_split\n",
    "from sklearn.metrics import f1_score\n",
    "from sklearn.utils import shuffle\n",
    "import imutils\n",
    "import numpy as np\n"
   ]
  },
  {
   "cell_type": "code",
   "execution_count": 12,
   "id": "8e960cd8",
   "metadata": {},
   "outputs": [],
   "source": [
    "#First will write video in mask and without - maybe will add picturest for model test\n",
    "import cv2"
   ]
  },
  {
   "cell_type": "code",
   "execution_count": 13,
   "id": "30a6a560",
   "metadata": {},
   "outputs": [],
   "source": [
    "cap = cv2.VideoCapture(0)\n",
    "if not cap.isOpened():\n",
    "    print(\"Cannot open camera!\")\n",
    "    exit()\n",
    "frame_width = int(cap.get(3))\n",
    "frame_height = int(cap.get(4))"
   ]
  },
  {
   "cell_type": "code",
   "execution_count": 14,
   "id": "a9a132ca",
   "metadata": {},
   "outputs": [
    {
     "data": {
      "text/plain": [
       "30.0"
      ]
     },
     "execution_count": 14,
     "metadata": {},
     "output_type": "execute_result"
    }
   ],
   "source": [
    "frame_time = cap.get(cv2.CAP_PROP_FPS)\n",
    "frame_time"
   ]
  },
  {
   "cell_type": "code",
   "execution_count": 15,
   "id": "6d8e2168",
   "metadata": {},
   "outputs": [],
   "source": [
    "out = cv2.VideoWriter('output.avi', cv2.VideoWriter_fourcc('M','J','P','G'), 10, (frame_width, frame_height))"
   ]
  },
  {
   "cell_type": "code",
   "execution_count": 16,
   "id": "d7c605c1",
   "metadata": {},
   "outputs": [],
   "source": [
    "while True:\n",
    "    ret, frame = cap.read()\n",
    "    if not ret:\n",
    "        print(\"Problem!\")\n",
    "        break \n",
    "    \n",
    "    out.write(frame)\n",
    "    cv2.imshow('Camera', frame)\n",
    "    if cv2.waitKey(int(frame_time)) == ord('q'):\n",
    "        break\n",
    "\n",
    "cap.release()\n",
    "out.release()\n",
    "cv2.destroyAllWindows()"
   ]
  },
  {
   "cell_type": "code",
   "execution_count": 1,
   "id": "6ec8fab9",
   "metadata": {},
   "outputs": [],
   "source": [
    "# Можна розбити на фото і додати до датасету, проте це мабуть недоречно. Розділю даний датасет data.zip на train, test"
   ]
  },
  {
   "cell_type": "code",
   "execution_count": 9,
   "id": "4bb6afbf",
   "metadata": {},
   "outputs": [
    {
     "name": "stdout",
     "output_type": "stream",
     "text": [
      "Found 1101 images belonging to 1 classes.\n",
      "Found 275 images belonging to 1 classes.\n",
      "Epoch 1/5\n",
      "34/34 [==============================] - 1073s 29s/step - loss: 0.0339 - accuracy: 0.9822 - val_loss: 33.7866 - val_accuracy: 0.0000e+00\n",
      "Epoch 2/5\n",
      "34/34 [==============================] - 885s 26s/step - loss: 5.0681e-05 - accuracy: 1.0000 - val_loss: 34.0086 - val_accuracy: 0.0000e+00\n",
      "Epoch 3/5\n",
      "34/34 [==============================] - 855s 25s/step - loss: 2.0401e-05 - accuracy: 1.0000 - val_loss: 32.0128 - val_accuracy: 0.0000e+00\n",
      "Epoch 4/5\n",
      "34/34 [==============================] - 849s 25s/step - loss: 1.5200e-05 - accuracy: 1.0000 - val_loss: 29.0731 - val_accuracy: 0.0000e+00\n",
      "Epoch 5/5\n",
      "34/34 [==============================] - 842s 25s/step - loss: 1.3545e-05 - accuracy: 1.0000 - val_loss: 26.2548 - val_accuracy: 0.0000e+00\n",
      "8/8 [==============================] - 36s 4s/step - loss: 26.2177 - accuracy: 0.0000e+00\n",
      "Test Loss: 26.21771240234375\n",
      "Test Accuracy: 0.0\n"
     ]
    }
   ],
   "source": [
    "import tensorflow as tf\n",
    "from tensorflow.keras.preprocessing.image import ImageDataGenerator\n",
    "\n",
    "# Завантаження і передобробка даних\n",
    "train_datagen = ImageDataGenerator(rescale=1./255, validation_split=0.2)\n",
    "\n",
    "train_generator = train_datagen.flow_from_directory(\n",
    "    r\"E:TRAINING_DIRdata.zip\",\n",
    "    target_size=(224, 224),\n",
    "    batch_size=32,\n",
    "    class_mode='binary',\n",
    "    subset='training'\n",
    ")\n",
    "\n",
    "validation_generator = train_datagen.flow_from_directory(\n",
    "    r\"E:TRAINING_DIRdata.zip\",\n",
    "    target_size=(224, 224),\n",
    "    batch_size=32,\n",
    "    class_mode='binary',\n",
    "    subset='validation'\n",
    ")\n",
    "\n",
    "# Створення моделі\n",
    "model = tf.keras.models.Sequential([\n",
    "    tf.keras.applications.MobileNetV2(input_shape=(224, 224, 3), include_top=False),\n",
    "    tf.keras.layers.GlobalAveragePooling2D(),\n",
    "    tf.keras.layers.Dense(1, activation='sigmoid')\n",
    "])\n",
    "\n",
    "# Компіляція моделі\n",
    "model.compile(optimizer='adam', loss='binary_crossentropy', metrics=['accuracy'])\n",
    "\n",
    "# Навчання моделі\n",
    "history = model.fit(\n",
    "    train_generator,\n",
    "    steps_per_epoch=train_generator.samples // train_generator.batch_size,\n",
    "    validation_data=validation_generator,\n",
    "    validation_steps=validation_generator.samples // validation_generator.batch_size,\n",
    "    epochs=5\n",
    ")\n",
    "\n",
    "# Оцінка моделі\n",
    "test_loss, test_acc = model.evaluate(validation_generator, steps=validation_generator.samples // validation_generator.batch_size)\n",
    "print('Test Loss:', test_loss)\n",
    "print('Test Accuracy:', test_acc)\n",
    "\n",
    "# Щось роблю не так - не розділено на 2 класи\n"
   ]
  },
  {
   "cell_type": "code",
   "execution_count": 10,
   "id": "053e878a",
   "metadata": {},
   "outputs": [],
   "source": [
    "import os\n",
    "os.makedirs('E:/model_masks', exist_ok=True)\n",
    "model.save('E:/model_masks/model.h5')\n",
    "\n",
    "# Завантаження навченої моделі\n",
    "trained_model_path = 'E:/model_masks/model.h5'\n",
    "\n",
    "output_file_path = 'E:/model_masks'\n",
    "\n",
    "model_loaded=keras.models.load_model('E:/model_masks/model.h5')"
   ]
  },
  {
   "cell_type": "code",
   "execution_count": 11,
   "id": "cb64ce28",
   "metadata": {},
   "outputs": [
    {
     "name": "stdout",
     "output_type": "stream",
     "text": [
      "1/1 [==============================] - 7s 7s/step\n",
      "1/1 [==============================] - 0s 152ms/step\n",
      "1/1 [==============================] - 0s 134ms/step\n",
      "1/1 [==============================] - 0s 220ms/step\n",
      "1/1 [==============================] - 0s 139ms/step\n",
      "1/1 [==============================] - 0s 132ms/step\n",
      "1/1 [==============================] - 0s 123ms/step\n",
      "1/1 [==============================] - 0s 123ms/step\n",
      "1/1 [==============================] - 0s 137ms/step\n",
      "1/1 [==============================] - 0s 144ms/step\n",
      "1/1 [==============================] - 0s 148ms/step\n",
      "1/1 [==============================] - 0s 405ms/step\n",
      "1/1 [==============================] - 0s 368ms/step\n",
      "1/1 [==============================] - 1s 520ms/step\n",
      "1/1 [==============================] - 0s 328ms/step\n",
      "1/1 [==============================] - 0s 295ms/step\n",
      "1/1 [==============================] - 0s 325ms/step\n",
      "1/1 [==============================] - 0s 351ms/step\n",
      "1/1 [==============================] - 0s 394ms/step\n",
      "1/1 [==============================] - 0s 300ms/step\n",
      "1/1 [==============================] - 0s 316ms/step\n",
      "1/1 [==============================] - 0s 117ms/step\n",
      "1/1 [==============================] - 0s 118ms/step\n",
      "1/1 [==============================] - 0s 135ms/step\n",
      "1/1 [==============================] - 0s 118ms/step\n",
      "1/1 [==============================] - 0s 139ms/step\n",
      "1/1 [==============================] - 0s 124ms/step\n",
      "1/1 [==============================] - 0s 123ms/step\n",
      "1/1 [==============================] - 0s 129ms/step\n",
      "1/1 [==============================] - 0s 165ms/step\n",
      "1/1 [==============================] - 0s 144ms/step\n",
      "1/1 [==============================] - 0s 110ms/step\n",
      "1/1 [==============================] - 0s 107ms/step\n",
      "1/1 [==============================] - 0s 248ms/step\n",
      "1/1 [==============================] - 0s 124ms/step\n"
     ]
    }
   ],
   "source": [
    "import cv2\n",
    "import numpy as np\n",
    "from keras.models import load_model\n",
    "model=load_model('E:/model_masks/model.h5')\n",
    "results={0:'without mask',1:'mask'}\n",
    "GR_dict={0:(0,0,255),1:(0,255,0)}\n",
    "rect_size = 4\n",
    "cap = cv2.VideoCapture(0) \n",
    "haarcascade = cv2.CascadeClassifier('haarcascade_frontalface_alt.xml')\n",
    "while True:\n",
    "    (rval, im) = cap.read()\n",
    "    im=cv2.flip(im,1,1) \n",
    "    \n",
    "    rerect_size = cv2.resize(im, (im.shape[1] // rect_size, im.shape[0] // rect_size))\n",
    "    faces = haarcascade.detectMultiScale(rerect_size)\n",
    "    for f in faces:\n",
    "        (x, y, w, h) = [v * rect_size for v in f] \n",
    "        \n",
    "        face_img = im[y:y+h, x:x+w]\n",
    "        rerect_sized=cv2.resize(face_img,(224,224))\n",
    "        normalized=rerect_sized/255.0\n",
    "        reshaped=np.reshape(normalized,(1,224,224,3))\n",
    "        reshaped = np.vstack([reshaped])\n",
    "        result=model.predict(reshaped)\n",
    "        \n",
    "        label=np.argmax(result,axis=1)[0]\n",
    "      \n",
    "        cv2.rectangle(im,(x,y),(x+w,y+h),GR_dict[label],2)\n",
    "        cv2.rectangle(im,(x,y-40),(x+w,y),GR_dict[label],-1)\n",
    "        cv2.putText(im, results[label], (x, y-10),cv2.FONT_HERSHEY_SIMPLEX,0.8,(255,255,255),2)\n",
    "    cv2.imshow('LIVE',   im)\n",
    "    key = cv2.waitKey(10)\n",
    "    \n",
    "    if key == ord('q'): #The Esc key\n",
    "        break\n",
    "cap.release()\n",
    "cv2.destroyAllWindows()"
   ]
  },
  {
   "cell_type": "code",
   "execution_count": null,
   "id": "2d64049e",
   "metadata": {},
   "outputs": [],
   "source": []
  },
  {
   "cell_type": "code",
   "execution_count": 26,
   "id": "81691793",
   "metadata": {},
   "outputs": [],
   "source": []
  },
  {
   "cell_type": "code",
   "execution_count": null,
   "id": "5c22b405",
   "metadata": {},
   "outputs": [],
   "source": []
  },
  {
   "cell_type": "code",
   "execution_count": null,
   "id": "9ca8766c",
   "metadata": {},
   "outputs": [],
   "source": []
  },
  {
   "cell_type": "code",
   "execution_count": null,
   "id": "123f036d",
   "metadata": {},
   "outputs": [],
   "source": []
  },
  {
   "cell_type": "code",
   "execution_count": null,
   "id": "7018ea0e",
   "metadata": {},
   "outputs": [],
   "source": []
  },
  {
   "cell_type": "code",
   "execution_count": null,
   "id": "c1555ecd",
   "metadata": {},
   "outputs": [],
   "source": []
  },
  {
   "cell_type": "code",
   "execution_count": null,
   "id": "d4f979d4",
   "metadata": {},
   "outputs": [],
   "source": []
  },
  {
   "cell_type": "code",
   "execution_count": null,
   "id": "d2d4f6c8",
   "metadata": {},
   "outputs": [],
   "source": []
  }
 ],
 "metadata": {
  "kernelspec": {
   "display_name": "Python 3 (ipykernel)",
   "language": "python",
   "name": "python3"
  },
  "language_info": {
   "codemirror_mode": {
    "name": "ipython",
    "version": 3
   },
   "file_extension": ".py",
   "mimetype": "text/x-python",
   "name": "python",
   "nbconvert_exporter": "python",
   "pygments_lexer": "ipython3",
   "version": "3.9.13"
  }
 },
 "nbformat": 4,
 "nbformat_minor": 5
}
